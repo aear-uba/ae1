{
  "nbformat": 4,
  "nbformat_minor": 0,
  "metadata": {
    "colab": {
      "provenance": []
    },
    "kernelspec": {
      "name": "python3",
      "display_name": "Python 3"
    },
    "language_info": {
      "name": "python"
    }
  },
  "cells": [
    {
      "cell_type": "code",
      "execution_count": 3,
      "metadata": {
        "colab": {
          "base_uri": "https://localhost:8080/"
        },
        "id": "39k2PDP_zJXV",
        "outputId": "69e2e48c-1921-4364-80e7-7fd1fe21a5b7"
      },
      "outputs": [
        {
          "output_type": "stream",
          "name": "stdout",
          "text": [
            "Requirement already satisfied: pyswarm in /usr/local/lib/python3.12/dist-packages (0.6)\n",
            "Requirement already satisfied: numpy in /usr/local/lib/python3.12/dist-packages (from pyswarm) (2.0.2)\n",
            "Stopping search: Swarm best objective change less than 1e-08\n",
            "Con ieqcons:\n",
            "xopt: [1.75902159 1.87951028] fopt: 3.202100718412573\n",
            "Stopping search: Swarm best objective change less than 1e-08\n",
            "Con f_ieqcons:\n",
            "xopt: [1.79911226 1.89955585] fopt: 3.20000188846163\n"
          ]
        }
      ],
      "source": [
        "!pip install pyswarm\n",
        "\n",
        "from pyswarm import pso\n",
        "\n",
        "# Función objetivo con args y kwargs\n",
        "def obj_func(x, a, b=0):\n",
        "    # x es un vector, ej: [x0, x1]\n",
        "    return (x[0] - a)**2 + (x[1] - b - 2.5)**2\n",
        "\n",
        "# Restricciones: cada una devuelve valor >= 0 si cumple\n",
        "def cons1(x, *args, **kwargs):  # x - 2y + 2 >= 0\n",
        "    return x[0] - 2*x[1] + 2\n",
        "\n",
        "def cons2(x, *args, **kwargs):  # -x - 2y + 6 >= 0\n",
        "    return -x[0] - 2*x[1] + 6\n",
        "\n",
        "def cons3(x, *args, **kwargs):  # -x + 2y + 2 >= 0\n",
        "    return -x[0] + 2*x[1] + 2\n",
        "\n",
        "# Alternativamente: todas las restric. en una sola función (f_ieqcons)\n",
        "def all_cons(x, *args, **kwargs):\n",
        "    return [\n",
        "        x[0] - 2*x[1] + 2,\n",
        "        -x[0] - 2*x[1] + 6,\n",
        "        -x[0] + 2*x[1] + 2\n",
        "    ]\n",
        "\n",
        "# Limites de búsqueda\n",
        "lb = [0, 0]\n",
        "ub = [5, 5]\n",
        "\n",
        "# Opción 1: usando ieqcons con lista de funciones\n",
        "xopt1, fopt1 = pso(obj_func, lb, ub, ieqcons=[cons1, cons2, cons3], args=(1,), kwargs={\"b\":1})\n",
        "print(\"Con ieqcons:\")\n",
        "print(\"xopt:\", xopt1, \"fopt:\", fopt1)\n",
        "\n",
        "# Opcion 2: usando f_ieqcons con funcin que devuelve lista\n",
        "xopt2, fopt2 = pso(obj_func, lb, ub, f_ieqcons=all_cons, args=(1,), kwargs={\"b\":1})\n",
        "print(\"Con f_ieqcons:\")\n",
        "print(\"xopt:\", xopt2, \"fopt:\", fopt2)"
      ]
    }
  ]
}